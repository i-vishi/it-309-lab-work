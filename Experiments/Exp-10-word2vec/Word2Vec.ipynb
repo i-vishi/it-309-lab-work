{
  "nbformat": 4,
  "nbformat_minor": 0,
  "metadata": {
    "colab": {
      "name": "Word2Vec.ipynb",
      "provenance": []
    },
    "kernelspec": {
      "name": "python3",
      "display_name": "Python 3"
    }
  },
  "cells": [
    {
      "cell_type": "code",
      "metadata": {
        "id": "lUCxYwee1vhW",
        "colab_type": "code",
        "colab": {}
      },
      "source": [
        "from gensim.models import word2vec"
      ],
      "execution_count": 0,
      "outputs": []
    },
    {
      "cell_type": "code",
      "metadata": {
        "id": "UwZ2Ts2B12bf",
        "colab_type": "code",
        "colab": {}
      },
      "source": [
        "sentences = word2vec.Text8Corpus('./drive/My Drive/text8')"
      ],
      "execution_count": 0,
      "outputs": []
    },
    {
      "cell_type": "code",
      "metadata": {
        "id": "bigY4GdI2k3M",
        "colab_type": "code",
        "outputId": "4e8fe725-f59a-4eec-80b3-7e93b8c7b4fc",
        "colab": {
          "base_uri": "https://localhost:8080/",
          "height": 71
        }
      },
      "source": [
        "model = word2vec.Word2Vec(sentences, size=200)"
      ],
      "execution_count": 4,
      "outputs": [
        {
          "output_type": "stream",
          "text": [
            "/usr/local/lib/python3.6/dist-packages/smart_open/smart_open_lib.py:253: UserWarning: This function is deprecated, use smart_open.open instead. See the migration notes for details: https://github.com/RaRe-Technologies/smart_open/blob/master/README.rst#migrating-to-the-new-open-function\n",
            "  'See the migration notes for details: %s' % _MIGRATION_NOTES_URL\n"
          ],
          "name": "stderr"
        }
      ]
    },
    {
      "cell_type": "code",
      "metadata": {
        "id": "NG_zxOTv214D",
        "colab_type": "code",
        "outputId": "929db4c3-0dad-4103-f45d-467e4f373253",
        "colab": {
          "base_uri": "https://localhost:8080/",
          "height": 768
        }
      },
      "source": [
        "model.wv.most_similar(\"dog\")\n",
        "model.wv.get_vector('dog')"
      ],
      "execution_count": 14,
      "outputs": [
        {
          "output_type": "stream",
          "text": [
            "/usr/local/lib/python3.6/dist-packages/gensim/matutils.py:737: FutureWarning: Conversion of the second argument of issubdtype from `int` to `np.signedinteger` is deprecated. In future, it will be treated as `np.int64 == np.dtype(int).type`.\n",
            "  if np.issubdtype(vec.dtype, np.int):\n"
          ],
          "name": "stderr"
        },
        {
          "output_type": "execute_result",
          "data": {
            "text/plain": [
              "array([ 0.11310142,  0.42426375, -0.47553828,  0.6113706 , -0.8368149 ,\n",
              "       -0.61375093,  1.2875453 , -0.35439265,  0.02931766,  0.2812347 ,\n",
              "        0.46658424, -0.52513814,  1.4404577 ,  0.41303143,  0.06324232,\n",
              "        1.0175177 , -0.2224645 ,  0.18858226, -0.8020743 , -0.2958655 ,\n",
              "        0.1650759 , -0.02803463,  0.81969833,  1.1329395 , -1.2676562 ,\n",
              "        0.31748286,  1.6399249 , -1.820662  , -0.85964954, -1.3097872 ,\n",
              "       -0.14903316,  0.8223295 ,  0.39857522,  0.04597602, -0.2141929 ,\n",
              "        1.06959   ,  0.15457185,  1.9297436 , -0.15320227, -1.3628887 ,\n",
              "        0.82679826, -2.1533003 , -0.5555427 , -0.9763903 , -0.3394246 ,\n",
              "       -0.8904242 ,  0.20316961,  1.778651  , -0.34969726, -0.93640566,\n",
              "       -0.9375762 , -1.0900924 ,  0.77896225, -0.12704554, -1.68195   ,\n",
              "        0.59684455, -1.4118671 , -0.4772316 , -0.12042832, -0.11787023,\n",
              "        1.4190979 ,  0.1732835 ,  1.7309372 , -0.26895416,  0.75904095,\n",
              "        0.17639756,  0.36037597, -0.54583055, -0.5226965 ,  0.06527799,\n",
              "        0.25640997,  0.3344614 ,  0.8997641 , -1.9738842 , -1.6320802 ,\n",
              "        0.79178536, -0.5841738 , -0.6418121 , -0.5924455 , -0.2640783 ,\n",
              "       -1.5867125 ,  0.11417808,  0.59446824, -0.6211051 ,  0.36074072,\n",
              "        0.97350067,  0.28222036,  0.06475711, -0.9641291 , -0.74022096,\n",
              "       -0.44629693, -0.9344714 , -0.45188573,  0.38043228, -0.47150317,\n",
              "       -1.287922  ,  0.19927073, -0.7441411 , -0.78078747,  2.3138673 ,\n",
              "        0.05910503, -1.1568943 , -0.98176885, -0.45970103,  0.6846718 ,\n",
              "       -0.44756156,  0.22303683,  0.15215938, -0.5125964 , -0.40999374,\n",
              "        2.1607687 , -0.5194623 ,  0.19508274,  1.2837663 ,  0.87156916,\n",
              "        0.01063228,  0.4659884 , -1.0932707 ,  0.3074553 ,  0.3078413 ,\n",
              "       -1.593738  ,  0.88670814, -0.80614376, -0.47176787,  0.27065548,\n",
              "       -0.5596224 ,  1.0123621 ,  0.8901967 , -1.080955  , -0.03497893,\n",
              "       -0.99432415,  0.71442   , -0.5375067 ,  0.7238554 , -0.8388035 ,\n",
              "       -0.97893906,  1.3122891 , -1.6512575 ,  0.11761174,  0.5694821 ,\n",
              "        0.80792916,  0.975269  ,  0.13863228,  0.03890086, -2.1441238 ,\n",
              "        0.27430788,  1.1975421 ,  0.25753984,  0.7203809 , -0.93728477,\n",
              "        0.2145322 ,  0.5030224 , -0.06317388,  0.7043663 , -0.4337142 ,\n",
              "        1.2431778 ,  0.03231608,  0.9696008 , -0.9838844 ,  1.3473397 ,\n",
              "        0.8434041 , -0.7850126 , -0.1609573 ,  0.24936385,  1.0690042 ,\n",
              "        0.21639155, -0.38880277,  0.18794249, -0.08094536, -0.8771677 ,\n",
              "        1.4108169 ,  0.36796507, -0.7790217 ,  0.5390293 ,  0.16477078,\n",
              "       -0.9793638 ,  1.3317602 ,  0.60776174, -2.0766246 , -0.49026522,\n",
              "        2.016783  , -0.05197879,  1.637074  , -0.4293642 ,  1.4239892 ,\n",
              "       -1.642007  , -0.08641096, -0.5425655 ,  0.3326674 , -0.6554852 ,\n",
              "        0.45216677, -0.22553334,  1.2804887 ,  0.64209765,  0.7958183 ,\n",
              "       -1.538318  ,  0.37694198,  0.8994475 ,  0.82377785, -0.65794027],\n",
              "      dtype=float32)"
            ]
          },
          "metadata": {
            "tags": []
          },
          "execution_count": 14
        }
      ]
    },
    {
      "cell_type": "code",
      "metadata": {
        "id": "8ycxOuoO4SgI",
        "colab_type": "code",
        "outputId": "2b6ced5f-9d97-4d3c-f5ab-7f81908896e0",
        "colab": {
          "base_uri": "https://localhost:8080/",
          "height": 241
        }
      },
      "source": [
        "model.wv.most_similar('computer')"
      ],
      "execution_count": 11,
      "outputs": [
        {
          "output_type": "stream",
          "text": [
            "/usr/local/lib/python3.6/dist-packages/gensim/matutils.py:737: FutureWarning: Conversion of the second argument of issubdtype from `int` to `np.signedinteger` is deprecated. In future, it will be treated as `np.int64 == np.dtype(int).type`.\n",
            "  if np.issubdtype(vec.dtype, np.int):\n"
          ],
          "name": "stderr"
        },
        {
          "output_type": "execute_result",
          "data": {
            "text/plain": [
              "[('computers', 0.6866356134414673),\n",
              " ('computing', 0.6243542432785034),\n",
              " ('console', 0.6194486618041992),\n",
              " ('hardware', 0.5985126495361328),\n",
              " ('mainframe', 0.584159255027771),\n",
              " ('programmer', 0.5807563066482544),\n",
              " ('handheld', 0.5782939195632935),\n",
              " ('pc', 0.5771670341491699),\n",
              " ('digital', 0.5723547339439392),\n",
              " ('cpu', 0.5669999122619629)]"
            ]
          },
          "metadata": {
            "tags": []
          },
          "execution_count": 11
        }
      ]
    },
    {
      "cell_type": "code",
      "metadata": {
        "id": "a4W93C9v4w3B",
        "colab_type": "code",
        "outputId": "a5b82659-a6ab-4dc0-89af-0deb5f550c94",
        "colab": {
          "base_uri": "https://localhost:8080/",
          "height": 122
        }
      },
      "source": [
        "model.most_similar(positive=['woman', 'king'], negative=['man'],topn=1)"
      ],
      "execution_count": 13,
      "outputs": [
        {
          "output_type": "stream",
          "text": [
            "/usr/local/lib/python3.6/dist-packages/ipykernel_launcher.py:1: DeprecationWarning: Call to deprecated `most_similar` (Method will be removed in 4.0.0, use self.wv.most_similar() instead).\n",
            "  \"\"\"Entry point for launching an IPython kernel.\n",
            "/usr/local/lib/python3.6/dist-packages/gensim/matutils.py:737: FutureWarning: Conversion of the second argument of issubdtype from `int` to `np.signedinteger` is deprecated. In future, it will be treated as `np.int64 == np.dtype(int).type`.\n",
            "  if np.issubdtype(vec.dtype, np.int):\n"
          ],
          "name": "stderr"
        },
        {
          "output_type": "execute_result",
          "data": {
            "text/plain": [
              "[('queen', 0.6278063058853149)]"
            ]
          },
          "metadata": {
            "tags": []
          },
          "execution_count": 13
        }
      ]
    },
    {
      "cell_type": "code",
      "metadata": {
        "id": "JxkSLA5v48hE",
        "colab_type": "code",
        "colab": {
          "base_uri": "https://localhost:8080/",
          "height": 275
        },
        "outputId": "23c1ca5b-2985-43f7-c5e0-2b1065000294"
      },
      "source": [
        "model.most_similar('prince')"
      ],
      "execution_count": 20,
      "outputs": [
        {
          "output_type": "stream",
          "text": [
            "/usr/local/lib/python3.6/dist-packages/ipykernel_launcher.py:1: DeprecationWarning: Call to deprecated `most_similar` (Method will be removed in 4.0.0, use self.wv.most_similar() instead).\n",
            "  \"\"\"Entry point for launching an IPython kernel.\n",
            "/usr/local/lib/python3.6/dist-packages/gensim/matutils.py:737: FutureWarning: Conversion of the second argument of issubdtype from `int` to `np.signedinteger` is deprecated. In future, it will be treated as `np.int64 == np.dtype(int).type`.\n",
            "  if np.issubdtype(vec.dtype, np.int):\n"
          ],
          "name": "stderr"
        },
        {
          "output_type": "execute_result",
          "data": {
            "text/plain": [
              "[('princess', 0.7970223426818848),\n",
              " ('regent', 0.794853687286377),\n",
              " ('aragon', 0.7707294225692749),\n",
              " ('elector', 0.7620182037353516),\n",
              " ('burgundy', 0.7532480955123901),\n",
              " ('consort', 0.7517077326774597),\n",
              " ('empress', 0.7410659193992615),\n",
              " ('duke', 0.731995165348053),\n",
              " ('duchess', 0.7290538549423218),\n",
              " ('margrave', 0.7195806503295898)]"
            ]
          },
          "metadata": {
            "tags": []
          },
          "execution_count": 20
        }
      ]
    },
    {
      "cell_type": "code",
      "metadata": {
        "id": "rzJDB3wEoYs7",
        "colab_type": "code",
        "colab": {
          "base_uri": "https://localhost:8080/",
          "height": 156
        },
        "outputId": "c16b0d5a-53ce-4a2f-e293-f6fb99f754c9"
      },
      "source": [
        "model.most_similar(['girl', 'father'], ['boy'], topn=3)"
      ],
      "execution_count": 21,
      "outputs": [
        {
          "output_type": "stream",
          "text": [
            "/usr/local/lib/python3.6/dist-packages/ipykernel_launcher.py:1: DeprecationWarning: Call to deprecated `most_similar` (Method will be removed in 4.0.0, use self.wv.most_similar() instead).\n",
            "  \"\"\"Entry point for launching an IPython kernel.\n",
            "/usr/local/lib/python3.6/dist-packages/gensim/matutils.py:737: FutureWarning: Conversion of the second argument of issubdtype from `int` to `np.signedinteger` is deprecated. In future, it will be treated as `np.int64 == np.dtype(int).type`.\n",
            "  if np.issubdtype(vec.dtype, np.int):\n"
          ],
          "name": "stderr"
        },
        {
          "output_type": "execute_result",
          "data": {
            "text/plain": [
              "[('mother', 0.7795988917350769),\n",
              " ('wife', 0.7176765203475952),\n",
              " ('daughter', 0.6988303065299988)]"
            ]
          },
          "metadata": {
            "tags": []
          },
          "execution_count": 21
        }
      ]
    }
  ]
}