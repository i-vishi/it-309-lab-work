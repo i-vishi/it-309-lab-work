{
  "nbformat": 4,
  "nbformat_minor": 0,
  "metadata": {
    "colab": {
      "name": "GloVe.ipynb",
      "provenance": []
    },
    "kernelspec": {
      "name": "python3",
      "display_name": "Python 3"
    }
  },
  "cells": [
    {
      "cell_type": "markdown",
      "metadata": {
        "id": "2kAnFdkakiHt",
        "colab_type": "text"
      },
      "source": [
        ""
      ]
    },
    {
      "cell_type": "code",
      "metadata": {
        "id": "QV7lYXZ3Hmd0",
        "colab_type": "code",
        "outputId": "0daec917-1fb3-432a-ba59-5e69005d7a3e",
        "colab": {
          "base_uri": "https://localhost:8080/",
          "height": 241
        }
      },
      "source": [
        "!pip install glove_python"
      ],
      "execution_count": 3,
      "outputs": [
        {
          "output_type": "stream",
          "text": [
            "Collecting glove_python\n",
            "\u001b[?25l  Downloading https://files.pythonhosted.org/packages/3e/79/7e7e548dd9dcb741935d031117f4bed133276c2a047aadad42f1552d1771/glove_python-0.1.0.tar.gz (263kB)\n",
            "\u001b[K     |████████████████████████████████| 266kB 2.8MB/s \n",
            "\u001b[?25hRequirement already satisfied: numpy in /usr/local/lib/python3.6/dist-packages (from glove_python) (1.18.3)\n",
            "Requirement already satisfied: scipy in /usr/local/lib/python3.6/dist-packages (from glove_python) (1.4.1)\n",
            "Building wheels for collected packages: glove-python\n",
            "  Building wheel for glove-python (setup.py) ... \u001b[?25l\u001b[?25hdone\n",
            "  Created wheel for glove-python: filename=glove_python-0.1.0-cp36-cp36m-linux_x86_64.whl size=700288 sha256=4d67a252ceaf81dc83a696eb245ccf4535e038c4ee9633ba79c7eb0ca0fe1b9c\n",
            "  Stored in directory: /root/.cache/pip/wheels/88/4b/6d/10c0d2ad32c9d9d68beec9694a6f0b6e83ab1662a90a089a4b\n",
            "Successfully built glove-python\n",
            "Installing collected packages: glove-python\n",
            "Successfully installed glove-python-0.1.0\n"
          ],
          "name": "stdout"
        }
      ]
    },
    {
      "cell_type": "code",
      "metadata": {
        "id": "KXV_cQA2G3y9",
        "colab_type": "code",
        "outputId": "aaf882ac-62fe-4626-ccc5-8e9ac0a4fc25",
        "colab": {
          "base_uri": "https://localhost:8080/",
          "height": 598
        }
      },
      "source": [
        "import itertools\n",
        "\n",
        "from gensim.models.word2vec import Text8Corpus\n",
        "\n",
        "from glove import Corpus, Glove\n",
        "\n",
        "sentences = list(itertools.islice(Text8Corpus('./drive/My Drive/text8'),None))\n",
        "\n",
        "corpus = Corpus()\n",
        "\n",
        "corpus.fit(sentences, window=10)\n",
        "\n",
        "glove = Glove(no_components=100, learning_rate=0.05)\n",
        "\n",
        "glove.fit(corpus.matrix, epochs=30, no_threads=4, verbose=True)"
      ],
      "execution_count": 4,
      "outputs": [
        {
          "output_type": "stream",
          "text": [
            "/usr/local/lib/python3.6/dist-packages/smart_open/smart_open_lib.py:253: UserWarning: This function is deprecated, use smart_open.open instead. See the migration notes for details: https://github.com/RaRe-Technologies/smart_open/blob/master/README.rst#migrating-to-the-new-open-function\n",
            "  'See the migration notes for details: %s' % _MIGRATION_NOTES_URL\n"
          ],
          "name": "stderr"
        },
        {
          "output_type": "stream",
          "text": [
            "Performing 30 training epochs with 4 threads\n",
            "Epoch 0\n",
            "Epoch 1\n",
            "Epoch 2\n",
            "Epoch 3\n",
            "Epoch 4\n",
            "Epoch 5\n",
            "Epoch 6\n",
            "Epoch 7\n",
            "Epoch 8\n",
            "Epoch 9\n",
            "Epoch 10\n",
            "Epoch 11\n",
            "Epoch 12\n",
            "Epoch 13\n",
            "Epoch 14\n",
            "Epoch 15\n",
            "Epoch 16\n",
            "Epoch 17\n",
            "Epoch 18\n",
            "Epoch 19\n",
            "Epoch 20\n",
            "Epoch 21\n",
            "Epoch 22\n",
            "Epoch 23\n",
            "Epoch 24\n",
            "Epoch 25\n",
            "Epoch 26\n",
            "Epoch 27\n",
            "Epoch 28\n",
            "Epoch 29\n"
          ],
          "name": "stdout"
        }
      ]
    },
    {
      "cell_type": "code",
      "metadata": {
        "id": "PcKPpk54WkG3",
        "colab_type": "code",
        "colab": {}
      },
      "source": [
        "glove.add_dictionary(corpus.dictionary)"
      ],
      "execution_count": 0,
      "outputs": []
    },
    {
      "cell_type": "code",
      "metadata": {
        "id": "HtA-E3uaX5O5",
        "colab_type": "code",
        "outputId": "47e50f18-ba14-47bb-c845-104d406484ed",
        "colab": {
          "base_uri": "https://localhost:8080/",
          "height": 187
        }
      },
      "source": [
        "glove.most_similar('color',number=11)"
      ],
      "execution_count": 12,
      "outputs": [
        {
          "output_type": "execute_result",
          "data": {
            "text/plain": [
              "[('internegative', 0.88609807390083),\n",
              " ('colour', 0.8709920265673742),\n",
              " ('blindness', 0.8038853044557297),\n",
              " ('colors', 0.7411262460826074),\n",
              " ('blue', 0.7328939590459189),\n",
              " ('yellow', 0.6998491110297039),\n",
              " ('palette', 0.6934651456733099),\n",
              " ('eeeeee', 0.6820967318784291),\n",
              " ('dddddd', 0.6705975298945843),\n",
              " ('screen', 0.6629410609385425)]"
            ]
          },
          "metadata": {
            "tags": []
          },
          "execution_count": 12
        }
      ]
    },
    {
      "cell_type": "code",
      "metadata": {
        "id": "lR39dIfU2Gs2",
        "colab_type": "code",
        "outputId": "42345e19-607a-4803-f292-78db2a5002b0",
        "colab": {
          "base_uri": "https://localhost:8080/",
          "height": 187
        }
      },
      "source": [
        "glove.most_similar('computer', number=11)"
      ],
      "execution_count": 13,
      "outputs": [
        {
          "output_type": "execute_result",
          "data": {
            "text/plain": [
              "[('confetti', 0.8254355716409304),\n",
              " ('computers', 0.8020718290370966),\n",
              " ('hardware', 0.7878534316364587),\n",
              " ('laptop', 0.751452943701868),\n",
              " ('graphics', 0.7301269196266198),\n",
              " ('pioneers', 0.724419181350407),\n",
              " ('desknote', 0.7202339966978349),\n",
              " ('programmer', 0.719783172116936),\n",
              " ('aided', 0.7149608577202161),\n",
              " ('simulation', 0.7104328576533571)]"
            ]
          },
          "metadata": {
            "tags": []
          },
          "execution_count": 13
        }
      ]
    },
    {
      "cell_type": "code",
      "metadata": {
        "id": "l0BoanhP0W7v",
        "colab_type": "code",
        "colab": {
          "base_uri": "https://localhost:8080/",
          "height": 187
        },
        "outputId": "f4a6ead0-5f8f-4346-b9ea-b68349d714e1"
      },
      "source": [
        "glove.most_similar('dog', number=11)"
      ],
      "execution_count": 11,
      "outputs": [
        {
          "output_type": "execute_result",
          "data": {
            "text/plain": [
              "[('laekenois', 0.8501926604345059),\n",
              " ('tervueren', 0.8265487259476645),\n",
              " ('dogs', 0.7430731150922689),\n",
              " ('shepherd', 0.7420534035160864),\n",
              " ('cat', 0.734242741275883),\n",
              " ('malinois', 0.7194000746727076),\n",
              " ('breed', 0.7042221745297993),\n",
              " ('horse', 0.6864767930831852),\n",
              " ('hound', 0.6769279887757707),\n",
              " ('dead', 0.6765494209730863)]"
            ]
          },
          "metadata": {
            "tags": []
          },
          "execution_count": 11
        }
      ]
    },
    {
      "cell_type": "code",
      "metadata": {
        "id": "5o_1QwcS1GcL",
        "colab_type": "code",
        "colab": {}
      },
      "source": [
        ""
      ],
      "execution_count": 0,
      "outputs": []
    }
  ]
}