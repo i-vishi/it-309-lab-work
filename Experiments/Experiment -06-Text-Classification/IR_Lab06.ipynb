{
 "cells": [
  {
   "cell_type": "code",
   "execution_count": 153,
   "metadata": {},
   "outputs": [],
   "source": [
    "# Author : Abhyuday Tripathi\n",
    "# Indian Institute of Information Technology Vadodara"
   ]
  },
  {
   "cell_type": "code",
   "execution_count": 6,
   "metadata": {},
   "outputs": [],
   "source": [
    "from sklearn.metrics import classification_report,f1_score\n",
    "from sklearn.datasets import fetch_20newsgroups\n",
    "from util import stop_words"
   ]
  },
  {
   "cell_type": "code",
   "execution_count": 7,
   "metadata": {},
   "outputs": [],
   "source": [
    "twenty_train = fetch_20newsgroups(subset='train' ,shuffle=True,download_if_missing=True)"
   ]
  },
  {
   "cell_type": "code",
   "execution_count": 8,
   "metadata": {},
   "outputs": [
    {
     "name": "stdout",
     "output_type": "stream",
     "text": [
      "Total documents : 11314\n",
      "Number of classes : 20\n"
     ]
    },
    {
     "data": {
      "text/plain": [
       "['alt.atheism',\n",
       " 'comp.graphics',\n",
       " 'comp.os.ms-windows.misc',\n",
       " 'comp.sys.ibm.pc.hardware',\n",
       " 'comp.sys.mac.hardware',\n",
       " 'comp.windows.x',\n",
       " 'misc.forsale',\n",
       " 'rec.autos',\n",
       " 'rec.motorcycles',\n",
       " 'rec.sport.baseball',\n",
       " 'rec.sport.hockey',\n",
       " 'sci.crypt',\n",
       " 'sci.electronics',\n",
       " 'sci.med',\n",
       " 'sci.space',\n",
       " 'soc.religion.christian',\n",
       " 'talk.politics.guns',\n",
       " 'talk.politics.mideast',\n",
       " 'talk.politics.misc',\n",
       " 'talk.religion.misc']"
      ]
     },
     "execution_count": 8,
     "metadata": {},
     "output_type": "execute_result"
    }
   ],
   "source": [
    "print(f\"Total documents : {len(twenty_train.data)}\")\n",
    "print(f\"Number of classes : {len(twenty_train.target_names)}\")\n",
    "twenty_train.target_names"
   ]
  },
  {
   "cell_type": "code",
   "execution_count": 9,
   "metadata": {},
   "outputs": [],
   "source": [
    "## WordCount\n",
    "\n",
    "from sklearn.feature_extraction.text import CountVectorizer\n",
    "# WordCount with filtering Stop Words\n",
    "count_vect = CountVectorizer(stop_words=stop_words)\n",
    "\n",
    "X_train_counts = count_vect.fit_transform(twenty_train.data)\n",
    "\n"
   ]
  },
  {
   "cell_type": "code",
   "execution_count": 10,
   "metadata": {},
   "outputs": [
    {
     "name": "stdout",
     "output_type": "stream",
     "text": [
      "Number of Feature words (without stemming and a bit more cleaning) : 129156\n"
     ]
    }
   ],
   "source": [
    "print(f\"Number of Feature words (without stemming and a bit more cleaning) : {X_train_counts.shape[1]}\")"
   ]
  },
  {
   "cell_type": "code",
   "execution_count": 11,
   "metadata": {},
   "outputs": [],
   "source": [
    "## DOCUMNETS AS tf-idf Feature Vectors\n",
    "\n",
    "from sklearn.feature_extraction.text import TfidfTransformer\n",
    "tfidf_transformer = TfidfTransformer()\n",
    "\n",
    "# tf-idf TD Matrix\n",
    "X_train_tfidf = tfidf_transformer.fit_transform(X_train_counts)\n"
   ]
  },
  {
   "cell_type": "code",
   "execution_count": 12,
   "metadata": {},
   "outputs": [],
   "source": [
    "# Importing Classifiers\n",
    "\n",
    "from sklearn.naive_bayes import MultinomialNB\n",
    "from sklearn.neighbors import KNeighborsClassifier,NearestCentroid"
   ]
  },
  {
   "cell_type": "code",
   "execution_count": 13,
   "metadata": {},
   "outputs": [],
   "source": [
    "# Classification Pipeline Module\n",
    "\n",
    "from sklearn.pipeline import Pipeline"
   ]
  },
  {
   "cell_type": "code",
   "execution_count": 14,
   "metadata": {},
   "outputs": [],
   "source": [
    "# Pipeline =>\n",
    "# WordCount ===> tf-idf vectorizaton ===> Classification\n",
    "\n",
    "# pipeline for Multinomial Naive Bayes\n",
    "text_clf = Pipeline([('vect', CountVectorizer(stop_words=stop_words)),('tfidf', TfidfTransformer()),('clf', MultinomialNB())])"
   ]
  },
  {
   "cell_type": "code",
   "execution_count": 15,
   "metadata": {},
   "outputs": [],
   "source": [
    "# Training Naive Bayes \n",
    "text_clf = text_clf.fit(twenty_train.data, twenty_train.target)"
   ]
  },
  {
   "cell_type": "code",
   "execution_count": 16,
   "metadata": {},
   "outputs": [
    {
     "name": "stdout",
     "output_type": "stream",
     "text": [
      "Acc ~ 82.0%\n"
     ]
    }
   ],
   "source": [
    "\n",
    "## Evaluating model on test-set \n",
    "\n",
    "\n",
    "import numpy as np\n",
    "# test set\n",
    "twenty_test = fetch_20newsgroups(subset='test', shuffle=True)\n",
    "\n",
    "predicted = text_clf.predict(twenty_test.data)\n",
    "# mean accuracy\n",
    "acc =np.mean(predicted == twenty_test.target)\n",
    "print(f\"Acc ~ {round(acc*100)}%\")"
   ]
  },
  {
   "cell_type": "code",
   "execution_count": 17,
   "metadata": {},
   "outputs": [
    {
     "name": "stdout",
     "output_type": "stream",
     "text": [
      "Classification Report : \n",
      "                          precision    recall  f1-score   support\n",
      "\n",
      "             alt.atheism       0.81      0.70      0.75       319\n",
      "           comp.graphics       0.78      0.72      0.75       389\n",
      " comp.os.ms-windows.misc       0.79      0.70      0.74       394\n",
      "comp.sys.ibm.pc.hardware       0.67      0.81      0.73       392\n",
      "   comp.sys.mac.hardware       0.86      0.81      0.84       385\n",
      "          comp.windows.x       0.86      0.79      0.83       395\n",
      "            misc.forsale       0.85      0.80      0.82       390\n",
      "               rec.autos       0.89      0.91      0.90       396\n",
      "         rec.motorcycles       0.93      0.95      0.94       398\n",
      "      rec.sport.baseball       0.91      0.92      0.92       397\n",
      "        rec.sport.hockey       0.88      0.98      0.93       399\n",
      "               sci.crypt       0.77      0.96      0.85       396\n",
      "         sci.electronics       0.84      0.63      0.72       393\n",
      "                 sci.med       0.92      0.78      0.84       396\n",
      "               sci.space       0.81      0.95      0.88       394\n",
      "  soc.religion.christian       0.64      0.95      0.77       398\n",
      "      talk.politics.guns       0.68      0.95      0.79       364\n",
      "   talk.politics.mideast       0.94      0.95      0.95       376\n",
      "      talk.politics.misc       0.94      0.53      0.68       310\n",
      "      talk.religion.misc       0.93      0.27      0.42       251\n",
      "\n",
      "                accuracy                           0.82      7532\n",
      "               macro avg       0.84      0.80      0.80      7532\n",
      "            weighted avg       0.83      0.82      0.81      7532\n",
      "\n"
     ]
    }
   ],
   "source": [
    "print(\"Classification Report : \")\n",
    "print(classification_report(twenty_test.target,predicted,target_names=twenty_train.target_names))\n"
   ]
  },
  {
   "cell_type": "code",
   "execution_count": 18,
   "metadata": {},
   "outputs": [],
   "source": [
    "# Pipeline for Rocchio Classifier\n",
    "rocchio_clf = Pipeline([('vect', CountVectorizer(stop_words=stop_words)),('tfidf', TfidfTransformer()),('clf', NearestCentroid())])"
   ]
  },
  {
   "cell_type": "code",
   "execution_count": 19,
   "metadata": {},
   "outputs": [],
   "source": [
    "# Training Rocchio Classifier\n",
    "rocchio_clf = rocchio_clf.fit(twenty_train.data, twenty_train.target)"
   ]
  },
  {
   "cell_type": "code",
   "execution_count": 20,
   "metadata": {},
   "outputs": [
    {
     "name": "stdout",
     "output_type": "stream",
     "text": [
      "Acc ~ 74.0%\n"
     ]
    }
   ],
   "source": [
    "# Evaluating Rocchio classifier on test set\n",
    "predicted = rocchio_clf.predict(twenty_test.data)\n",
    "# mean accuracy\n",
    "acc =np.mean(predicted == twenty_test.target)\n",
    "print(f\"Acc ~ {round(acc*100)}%\")"
   ]
  },
  {
   "cell_type": "code",
   "execution_count": 21,
   "metadata": {},
   "outputs": [
    {
     "name": "stdout",
     "output_type": "stream",
     "text": [
      "Classification Report : \n",
      "                          precision    recall  f1-score   support\n",
      "\n",
      "             alt.atheism       0.79      0.54      0.64       319\n",
      "           comp.graphics       0.56      0.79      0.65       389\n",
      " comp.os.ms-windows.misc       0.72      0.71      0.71       394\n",
      "comp.sys.ibm.pc.hardware       0.69      0.63      0.66       392\n",
      "   comp.sys.mac.hardware       0.77      0.74      0.75       385\n",
      "          comp.windows.x       0.84      0.67      0.74       395\n",
      "            misc.forsale       0.75      0.82      0.78       390\n",
      "               rec.autos       0.88      0.81      0.85       396\n",
      "         rec.motorcycles       0.97      0.90      0.93       398\n",
      "      rec.sport.baseball       0.93      0.88      0.90       397\n",
      "        rec.sport.hockey       0.95      0.88      0.91       399\n",
      "               sci.crypt       0.97      0.71      0.82       396\n",
      "         sci.electronics       0.33      0.80      0.47       393\n",
      "                 sci.med       0.92      0.55      0.69       396\n",
      "               sci.space       0.86      0.78      0.82       394\n",
      "  soc.religion.christian       0.76      0.83      0.80       398\n",
      "      talk.politics.guns       0.72      0.80      0.76       364\n",
      "   talk.politics.mideast       0.98      0.70      0.82       376\n",
      "      talk.politics.misc       0.63      0.60      0.61       310\n",
      "      talk.religion.misc       0.59      0.47      0.53       251\n",
      "\n",
      "                accuracy                           0.74      7532\n",
      "               macro avg       0.78      0.73      0.74      7532\n",
      "            weighted avg       0.79      0.74      0.75      7532\n",
      "\n"
     ]
    }
   ],
   "source": [
    "print(\"Classification Report : \")\n",
    "print(classification_report(twenty_test.target,predicted,target_names=twenty_train.target_names))"
   ]
  },
  {
   "cell_type": "code",
   "execution_count": 28,
   "metadata": {},
   "outputs": [],
   "source": [
    "# Pipeline for KNN Classifier\n",
    "knn_clf = Pipeline([('vect', CountVectorizer()),('tfidf', TfidfTransformer()),('clf', KNeighborsClassifier(5,p=1))])"
   ]
  },
  {
   "cell_type": "code",
   "execution_count": 29,
   "metadata": {},
   "outputs": [],
   "source": [
    "# Training KNN Classifier\n",
    "knn_clf = rocchio_clf.fit(twenty_train.data, twenty_train.target)"
   ]
  },
  {
   "cell_type": "code",
   "execution_count": 30,
   "metadata": {},
   "outputs": [
    {
     "name": "stdout",
     "output_type": "stream",
     "text": [
      "Acc ~ 74.0%\n"
     ]
    }
   ],
   "source": [
    "# Evaluating KNN classifier on test set\n",
    "predicted = knn_clf.predict(twenty_test.data)\n",
    "# mean accuracy\n",
    "acc =np.mean(predicted == twenty_test.target)\n",
    "print(f\"Acc ~ {round(acc*100)}%\")"
   ]
  },
  {
   "cell_type": "code",
   "execution_count": 31,
   "metadata": {},
   "outputs": [
    {
     "name": "stdout",
     "output_type": "stream",
     "text": [
      "Classification Report : \n",
      "                          precision    recall  f1-score   support\n",
      "\n",
      "             alt.atheism       0.79      0.54      0.64       319\n",
      "           comp.graphics       0.56      0.79      0.65       389\n",
      " comp.os.ms-windows.misc       0.72      0.71      0.71       394\n",
      "comp.sys.ibm.pc.hardware       0.69      0.63      0.66       392\n",
      "   comp.sys.mac.hardware       0.77      0.74      0.75       385\n",
      "          comp.windows.x       0.84      0.67      0.74       395\n",
      "            misc.forsale       0.75      0.82      0.78       390\n",
      "               rec.autos       0.88      0.81      0.85       396\n",
      "         rec.motorcycles       0.97      0.90      0.93       398\n",
      "      rec.sport.baseball       0.93      0.88      0.90       397\n",
      "        rec.sport.hockey       0.95      0.88      0.91       399\n",
      "               sci.crypt       0.97      0.71      0.82       396\n",
      "         sci.electronics       0.33      0.80      0.47       393\n",
      "                 sci.med       0.92      0.55      0.69       396\n",
      "               sci.space       0.86      0.78      0.82       394\n",
      "  soc.religion.christian       0.76      0.83      0.80       398\n",
      "      talk.politics.guns       0.72      0.80      0.76       364\n",
      "   talk.politics.mideast       0.98      0.70      0.82       376\n",
      "      talk.politics.misc       0.63      0.60      0.61       310\n",
      "      talk.religion.misc       0.59      0.47      0.53       251\n",
      "\n",
      "                accuracy                           0.74      7532\n",
      "               macro avg       0.78      0.73      0.74      7532\n",
      "            weighted avg       0.79      0.74      0.75      7532\n",
      "\n"
     ]
    }
   ],
   "source": [
    "print(\"Classification Report : \")\n",
    "print(classification_report(twenty_test.target,predicted,target_names=twenty_train.target_names))"
   ]
  },
  {
   "cell_type": "code",
   "execution_count": null,
   "metadata": {},
   "outputs": [],
   "source": []
  },
  {
   "cell_type": "code",
   "execution_count": null,
   "metadata": {},
   "outputs": [],
   "source": []
  }
 ],
 "metadata": {
  "kernelspec": {
   "display_name": "Python 3",
   "language": "python",
   "name": "python3"
  },
  "language_info": {
   "codemirror_mode": {
    "name": "ipython",
    "version": 3
   },
   "file_extension": ".py",
   "mimetype": "text/x-python",
   "name": "python",
   "nbconvert_exporter": "python",
   "pygments_lexer": "ipython3",
   "version": "3.7.6"
  }
 },
 "nbformat": 4,
 "nbformat_minor": 4
}
